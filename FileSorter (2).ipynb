{
 "cells": [
  {
   "cell_type": "code",
   "execution_count": 1,
   "id": "313d7b13-96b5-4647-90a2-bdb08a62b6b0",
   "metadata": {},
   "outputs": [],
   "source": [
    "import os,shutil"
   ]
  },
  {
   "cell_type": "code",
   "execution_count": 3,
   "id": "d8fa8f82-bde8-4067-93b9-2478f3d46475",
   "metadata": {},
   "outputs": [
    {
     "name": "stdin",
     "output_type": "stream",
     "text": [
      "Enter the path of the folder you want to sort:  C:\\Users\\dukep\\Documents\\\n"
     ]
    },
    {
     "name": "stdout",
     "output_type": "stream",
     "text": [
      "You have selected: C:\\Users\\dukep\\Documents\\\n"
     ]
    }
   ],
   "source": [
    "sort_folder = input(\"Enter the path of the folder you want to sort: \")\n",
    "print(f'You have selected: {sort_folder}')"
   ]
  },
  {
   "cell_type": "code",
   "execution_count": 6,
   "id": "d8c68e31-734e-4c54-90d1-6360ebddb5f5",
   "metadata": {},
   "outputs": [],
   "source": [
    "def sort_files(path_file):\n",
    "    if not os.path.exists(path_file):\n",
    "        print(\"The specified folder does not exist. Please try again.\")\n",
    "        return\n",
    "    \n",
    "    for files in os.listdir(path_file):\n",
    "    \n",
    "        if os.path.isfile(os.path.join(path_file, files)):\n",
    "            \n",
    "            extension = files.split('.')[-1].lower()\n",
    "            folder_name = os.path.join(path_file, extension + \" files\")\n",
    "\n",
    "            if not os.path.exists(folder_name):\n",
    "                os.makedirs(folder_name)\n",
    "            \n",
    "                shutil.move(os.path.join(path_file, files), os.path.join(folder_name, files))\n",
    "\n",
    "    print(f\"Files sorted in folder: {path_file}\")\n",
    "\n"
   ]
  },
  {
   "cell_type": "code",
   "execution_count": 7,
   "id": "6c00524d-6d4f-4a96-9d75-f0de1015e36b",
   "metadata": {},
   "outputs": [
    {
     "name": "stdout",
     "output_type": "stream",
     "text": [
      "Files sorted in folder: C:\\Users\\dukep\\Documents\\\n"
     ]
    }
   ],
   "source": [
    " sort_files(sort_folder)"
   ]
  }
 ],
 "metadata": {
  "kernelspec": {
   "display_name": "Python 3 (ipykernel)",
   "language": "python",
   "name": "python3"
  },
  "language_info": {
   "codemirror_mode": {
    "name": "ipython",
    "version": 3
   },
   "file_extension": ".py",
   "mimetype": "text/x-python",
   "name": "python",
   "nbconvert_exporter": "python",
   "pygments_lexer": "ipython3",
   "version": "3.11.4"
  }
 },
 "nbformat": 4,
 "nbformat_minor": 5
}
